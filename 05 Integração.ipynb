{
 "cells": [
  {
   "cell_type": "markdown",
   "metadata": {
    "slideshow": {
     "slide_type": "slide"
    }
   },
   "source": [
    "# Integração Numérica\n",
    "\n",
    " _Prof. Dr. Tito Dias Júnior_"
   ]
  },
  {
   "attachments": {
    "image.png": {
     "image/png": "[encoded data removed]"
    }
   },
   "cell_type": "markdown",
   "metadata": {
    "slideshow": {
     "slide_type": "fragment"
    }
   },
   "source": [
    "## **Regra do Trapézio**\n",
    "A regra do trapézio é a primeira fórmula de integração fechada de Newton-Cotes,\n",
    "utiliza polinômio de primeiro grau.\n",
    "Para aplicação múltipla da regra do trapézio, obtemos\n",
    "\n",
    "\n",
    "![image.png](attachment:image.png)\n",
    "\n",
    "\n",
    "\n"
   ]
  },
  {
   "cell_type": "markdown",
   "metadata": {},
   "source": [
    "## Exemplo 1\n",
    "\n",
    "Use a regra do trapézio com dois segmentos para obter uma\n",
    "estimativa da integral de a = 0 a b = 0,8. Determine o valor analítica e compare com o valor calculado pela regra do Trapézio.\n",
    "\n",
    "\n"
   ]
  },
  {
   "cell_type": "code",
   "execution_count": 35,
   "metadata": {},
   "outputs": [
    {
     "name": "stdout",
     "output_type": "stream",
     "text": [
      "1.3695736625514494\n"
     ]
    }
   ],
   "source": [
    "# Algoritmo de integração pelo método do Trapézio\n",
    "import numpy as np            # Importa módulo numpy para criação das matrizes e vetores\n",
    "\n",
    "# Dados\n",
    "a = 0.0\n",
    "b = 0.8\n",
    "n = 2\n",
    "\n",
    "\n",
    "# Função para ser integrada\n",
    "def function(x):\n",
    "    return 0.2 + 25*x - 200*x**2 + 675*x**3 - 900*x**4 + 400*x**5\n",
    "\n",
    "# Largura dos intervalos\n",
    "h = (b-a)/n\n",
    "\n",
    "x = np.linspace(a,b,n+1)\n",
    "f = function(x)\n",
    "\n",
    "\n",
    "I_aux = 0.0\n",
    "for i in range(1,n):\n",
    "    I_aux = I_aux + 2*f[i]\n",
    "        \n",
    "I_aux = f[0] + I_aux + f[n]\n",
    "I = (b-a)*I_aux/(2*n)\n",
    "\n",
    "print(I)\n"
   ]
  },
  {
   "cell_type": "markdown",
   "metadata": {
    "slideshow": {
     "slide_type": "fragment"
    }
   },
   "source": [
    "## Referências"
   ]
  },
  {
   "cell_type": "code",
   "execution_count": null,
   "metadata": {},
   "outputs": [],
   "source": []
  },
  {
   "cell_type": "markdown",
   "metadata": {
    "slideshow": {
     "slide_type": "fragment"
    }
   },
   "source": [
    "Kiusalaas, J. (2013). **Numerical Methods in Engineering With Python 3**. Cambridge: Cambridge.<br>\n",
    "Brasil, R.M.L.R.F, Balthazar, J.M., Góis, W. (2015) **Métodos Numéricos e Computacionais na Prática de Engenharias e Ciências**, São Paulo: Edgar Blucher"
   ]
  },
  {
   "cell_type": "code",
   "execution_count": null,
   "metadata": {},
   "outputs": [],
   "source": []
  },
  {
   "cell_type": "code",
   "execution_count": null,
   "metadata": {},
   "outputs": [],
   "source": []
  }
 ],
 "metadata": {
  "kernelspec": {
   "display_name": "Python 3",
   "language": "python",
   "name": "python3"
  },
  "language_info": {
   "codemirror_mode": {
    "name": "ipython",
    "version": 3
   },
   "file_extension": ".py",
   "mimetype": "text/x-python",
   "name": "python",
   "nbconvert_exporter": "python",
   "pygments_lexer": "ipython3",
   "version": "3.8.3"
  }
 },
 "nbformat": 4,
 "nbformat_minor": 4
}
