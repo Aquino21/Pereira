{
 "cells": [
  {
   "cell_type": "markdown",
   "metadata": {
    "slideshow": {
     "slide_type": "slide"
    }
   },
   "source": [
    "# Integração Numérica\n",
    "\n",
    " _Prof. Dr. Tito Dias Júnior_"
   ]
  },
  {
   "attachments": {
    "image.png": {
     "image/png": "[encoded data removed]"
    }
   },
   "cell_type": "markdown",
   "metadata": {
    "slideshow": {
     "slide_type": "fragment"
    }
   },
   "source": [
    "## **Regra do Trapézio**\n",
    "A regra do trapézio é a primeira fórmula de integração fechada de Newton-Cotes,\n",
    "utiliza polinômio de primeiro grau.\n",
    "Para aplicação múltipla da regra do trapézio, obtemos\n",
    "\n",
    "\n",
    "![image.png](attachment:image.png)\n",
    "\n",
    "\n",
    "\n"
   ]
  },
  {
   "attachments": {
    "image.png": {
     "image/png": "[encoded data removed]"
    }
   },
   "cell_type": "markdown",
   "metadata": {},
   "source": [
    "## Exemplo 1\n",
    "\n",
    "Use a regra do trapézio com dois segmentos para obter uma\n",
    "estimativa da integral de a = 0 a b = 0,8. Determine o valor analítica e compare com o valor calculado pela regra do Trapézio.\n",
    "\n",
    "![image.png](attachment:image.png)\n",
    "\n"
   ]
  },
  {
   "cell_type": "code",
   "execution_count": 3,
   "metadata": {},
   "outputs": [
    {
     "name": "stdout",
     "output_type": "stream",
     "text": [
      "1.0688000000000115\n"
     ]
    }
   ],
   "source": [
    "# Algoritmo de integração pelo método do Trapézio\n",
    "import numpy as np            # Importa módulo numpy para criação das matrizes e vetores\n",
    "\n",
    "# Dados\n",
    "a = 0.0\n",
    "b = 0.8\n",
    "n = 2\n",
    "\n",
    "\n",
    "# Função para ser integrada\n",
    "def function(x):\n",
    "    return 0.2 + 25*x - 200*x**2 + 675*x**3 - 900*x**4 + 400*x**5\n",
    "\n",
    "# Largura dos intervalos\n",
    "h = (b-a)/n\n",
    "\n",
    "x = np.linspace(a,b,n+1)\n",
    "f = function(x)\n",
    "\n",
    "\n",
    "I_aux = 0.0\n",
    "for i in range(1,n):\n",
    "    I_aux = I_aux + 2*f[i]\n",
    "        \n",
    "I_aux = f[0] + I_aux + f[n]\n",
    "I = (b-a)*I_aux/(2*n)\n",
    "\n",
    "print(I)\n"
   ]
  },
  {
   "cell_type": "markdown",
   "metadata": {},
   "source": [
    "## Exemplo 2\n",
    "\n",
    "Use a regra de 1/3 de Simpson para obter uma\n",
    "estimativa da integral de a = 0 a b = 0,8. Compare com o valor analítico.\n",
    "\n",
    "\n"
   ]
  },
  {
   "cell_type": "code",
   "execution_count": 9,
   "metadata": {},
   "outputs": [
    {
     "name": "stdout",
     "output_type": "stream",
     "text": [
      "1.6403226337448527\n"
     ]
    }
   ],
   "source": [
    "# Algoritmo de integração pela Regra de 1/3 de Simpson\n",
    "import numpy as np            # Importa módulo numpy para criação das matrizes e vetores\n",
    "\n",
    "# Dados\n",
    "a = 0.0\n",
    "b = 0.8\n",
    "n = 12\n",
    "\n",
    "\n",
    "# Função para ser integrada\n",
    "def function(x):\n",
    "    return 0.2 + 25*x - 200*x**2 + 675*x**3 - 900*x**4 + 400*x**5\n",
    "\n",
    "# Largura dos intervalos\n",
    "h = (b-a)/n\n",
    "\n",
    "x = np.linspace(a,b,n+1)\n",
    "f = function(x)\n",
    "\n",
    "\n",
    "I_aux = 0.0\n",
    "for i in range(1,n):\n",
    "    if (i % 2) == 0:  \n",
    "        I_aux = I_aux + 2*f[i]\n",
    "    else:\n",
    "        I_aux = I_aux + 4*f[i]\n",
    "        \n",
    "I_aux = f[0] + I_aux + f[n]\n",
    "I = (b-a)*I_aux/(3*n)\n",
    "\n",
    "print(I)\n"
   ]
  },
  {
   "attachments": {},
   "cell_type": "markdown",
   "metadata": {},
   "source": [
    "### Exemplo 3\n",
    "\n",
    "Enunciado do Problema. Use um software em Python para resolver um problema relacionado com o paraquedista em queda livre. Cuja a velocidade é dada pela seguinte função do tempo:\n",
    "\n",
    "![Equacao.png](equacao.png)\n",
    "\n",
    "\n",
    "em que v é a velocidade (m/s), g = 9,8 m/s2 é a constante gravitacional, m = 68,1 kg é a massa do paraquedista e c = 12,5 kg/s é o coeficiente de arrasto. O modelo prevê a velocidade do paraquedista como função do tempo.\n",
    "\n",
    "Suponha que quiséssemos saber quanto o paraquedista caiu depois de um certo intervalo de tempo t. A distância é dada por\n",
    "\n",
    "![Equacao2.png](equacao2.png)\n",
    "\n",
    "\n",
    "### 1. Regra do Trapézio\n",
    "Use seu software para determinar essa integral com a regra do trapézio com segmentos\n",
    "múltiplos, utilizando diferentes números de segmentos. Observe que fazer a integral analiticamente\n",
    "e substituir os valores dados dos parâmetros resulta em um valor exato de d = 289,43515 m."
   ]
  },
  {
   "cell_type": "code",
   "execution_count": 28,
   "metadata": {},
   "outputs": [
    {
     "name": "stdout",
     "output_type": "stream",
     "text": [
      "282.1434125139115\n"
     ]
    }
   ],
   "source": [
    "# Algoritmo de integração pelo método do Trapézio\n",
    "import numpy as np            # Importa módulo numpy para criação das matrizes e vetores\n",
    "\n",
    "# Dados\n",
    "a = 0.0\n",
    "b = 10\n",
    "n = 3\n",
    "\n",
    "# Função para ser integrada\n",
    "def function(x):\n",
    "    g = 9.81\n",
    "    c = 12.5\n",
    "    m = 68.1\n",
    "    return (1-np.exp(-c/m*x))*g*m/c\n",
    "\n",
    "x = np.linspace(a,b,n+1)\n",
    "f = function(x)\n",
    "\n",
    "\n",
    "I_aux = 0.0\n",
    "for i in range(1,n):\n",
    "    I_aux = I_aux + 2*f[i]\n",
    "        \n",
    "I_aux = f[0] + I_aux + f[n]\n",
    "I = (b-a)*I_aux/(2*n)\n",
    "\n",
    "print(I)\n"
   ]
  },
  {
   "attachments": {},
   "cell_type": "markdown",
   "metadata": {},
   "source": [
    "### 2. Regra de 1/3 de Simpson\n",
    "Use a regra de 1/3 de Simpson para obter uma\n",
    "estimativa da integral e compare com o valor analítico."
   ]
  },
  {
   "cell_type": "code",
   "execution_count": 27,
   "metadata": {},
   "outputs": [
    {
     "name": "stdout",
     "output_type": "stream",
     "text": [
      "289.67168253178306\n"
     ]
    }
   ],
   "source": [
    "# Algoritmo de integração pela Regra de 1/3 de Simpson\n",
    "import numpy as np            # Importa módulo numpy para criação das matrizes e vetores\n",
    "\n",
    "# Dados\n",
    "a = 0.0\n",
    "b = 10\n",
    "n = 4\n",
    "\n",
    "\n",
    "# Função para ser integrada\n",
    "def function(x):\n",
    "    g = 9.81\n",
    "    c = 12.5\n",
    "    m = 68.1\n",
    "    return (1-np.exp(-c/m*x))*g*m/c\n",
    "\n",
    "# Largura dos intervalos\n",
    "h = (b-a)/n\n",
    "\n",
    "x = np.linspace(a,b,n+1)\n",
    "f = function(x)\n",
    "\n",
    "\n",
    "I_aux = 0.0\n",
    "for i in range(1,n):\n",
    "    if (i % 2) == 0:  \n",
    "        I_aux = I_aux + 2*f[i]\n",
    "    else:\n",
    "        I_aux = I_aux + 4*f[i]\n",
    "        \n",
    "I_aux = f[0] + I_aux + f[n]\n",
    "I = (b-a)*I_aux/(3*n)\n",
    "\n",
    "print(I)\n"
   ]
  },
  {
   "cell_type": "markdown",
   "metadata": {
    "slideshow": {
     "slide_type": "fragment"
    }
   },
   "source": [
    "## Referências"
   ]
  },
  {
   "cell_type": "markdown",
   "metadata": {
    "slideshow": {
     "slide_type": "fragment"
    }
   },
   "source": [
    "Kiusalaas, J. (2013). **Numerical Methods in Engineering With Python 3**. Cambridge: Cambridge.<br>\n",
    "Brasil, R.M.L.R.F, Balthazar, J.M., Góis, W. (2015) **Métodos Numéricos e Computacionais na Prática de Engenharias e Ciências**, São Paulo: Edgar Blucher"
   ]
  },
  {
   "cell_type": "code",
   "execution_count": null,
   "metadata": {},
   "outputs": [],
   "source": []
  },
  {
   "cell_type": "code",
   "execution_count": null,
   "metadata": {},
   "outputs": [],
   "source": []
  }
 ],
 "metadata": {
  "kernelspec": {
   "display_name": "Python 3",
   "language": "python",
   "name": "python3"
  },
  "language_info": {
   "codemirror_mode": {
    "name": "ipython",
    "version": 3
   },
   "file_extension": ".py",
   "mimetype": "text/x-python",
   "name": "python",
   "nbconvert_exporter": "python",
   "pygments_lexer": "ipython3",
   "version": "3.8.3"
  }
 },
 "nbformat": 4,
 "nbformat_minor": 4
}
