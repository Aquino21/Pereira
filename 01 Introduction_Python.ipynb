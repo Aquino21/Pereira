{
 "cells": [
  {
   "cell_type": "markdown",
   "metadata": {
    "slideshow": {
     "slide_type": "slide"
    }
   },
   "source": [
    "# Introdução ao Python\n",
    " _Prof. Tito Dias Júnior_"
   ]
  },
  {
   "cell_type": "markdown",
   "metadata": {
    "slideshow": {
     "slide_type": "fragment"
    }
   },
   "source": [
    "### **A linguagem**"
   ]
  },
  {
   "cell_type": "markdown",
   "metadata": {
    "slideshow": {
     "slide_type": "slide"
    }
   },
   "source": [
    "Python é uma linguagem bastante versátil e interpretada, isto é, não é necessário compilar para executar o programa. Isso é muito conveniente para aprender a programar, uma vez que podemos executar partes do código enquanto programamos. Normalmente, a elaboração do programa é realizada digitando-se o código em um IDE (*Integrated Development Environment*) ou Ambiente de Desenvolvimento Integrado, onde podemos digitar e executar o programa de forma integrada com o interpretador da linguagem.\n"
   ]
  },
  {
   "cell_type": "markdown",
   "metadata": {
    "slideshow": {
     "slide_type": "slide"
    }
   },
   "source": [
    "\n",
    "### **Instalando** \n",
    "\n",
    "Para efetuar a instalação do Python, pode-se acessar diretamente o site oficial [Python](https://www.python.org), ou instalar o pacote fornecido pela [Anaconda](https://get.anaconda.com/build-vs-buy/) que traz outros aplicativos úteis, incluindo o Spyder, uma IDE bastante utilizada para programação.\n",
    " \n",
    "Nesse curso, utilizaremos o Jupyter Notebook que é um arquivo que combina células de texto (*markdown*) e de código (*code*) no mesmo arquivo. Para executar os notebooks disponíveis nesse curso basta copiar o endereço da pasta que contém o notebook no campo \"GitHub repository name or URL\" no site [mybinder.org](https://mybinder.or), aguardar enquanto ele gera um ambiente de trabalho e começar a executar as células. Todas as alterações realizadas no notebook serão perdidas após sair do ambiente do binder.\n",
    "\n"
   ]
  },
  {
   "cell_type": "markdown",
   "metadata": {
    "slideshow": {
     "slide_type": "slide"
    }
   },
   "source": [
    "## Fundamentos\n",
    "\n",
    "### Variáveis\n",
    "\n",
    "Representa um espaço de memória utilizado para armazenar valores utilizados. Quando se aloca um espaço na memória deve-se especificar o tipo de variável, por exemplo, valor númerico inteiro, fracionários, vetores, etc. e após definida a variável pode receber valores diferentes mas não tipos diferentes."
   ]
  },
  {
   "cell_type": "code",
   "execution_count": 6,
   "metadata": {
    "slideshow": {
     "slide_type": "slide"
    }
   },
   "outputs": [
    {
     "name": "stdout",
     "output_type": "stream",
     "text": [
      "a =  1\n",
      "b =  2.1\n"
     ]
    }
   ],
   "source": [
    "# A linha que começa com o símbolo de hashtag é interpretada como um comentário e não é executada.\n",
    "# Em um programa, é muito importante utilizar os comentários para registrar o que se realiza ou pensa durante a programação, \n",
    "# para que você possa se comunicar com outros programadores ou consigo no futuro \n",
    "a = 1               # Variável numérica inteira (int)\n",
    "print('a = ', a)    # Função print, utilizada para mostrar texto e valores no terminal de execução.\n",
    "b = 2.1*1           # Variável numérica de ponto flutuante (float)\n",
    "print('b = ', b)"
   ]
  },
  {
   "cell_type": "markdown",
   "metadata": {
    "slideshow": {
     "slide_type": "slide"
    }
   },
   "source": [
    "### Strings\n",
    "\n",
    "*Strings* são sequências de caracteres, também conhecidas como cadeias de caracteres ou vetores de caracteres. Elas podem ser \"somadas\" ou concatenadas com outras strings e podem ser segmentadas com o uso de \"[:]\", como mostrado no exemplo:\n",
    "\n"
   ]
  },
  {
   "cell_type": "code",
   "execution_count": 67,
   "metadata": {
    "slideshow": {
     "slide_type": "slide"
    }
   },
   "outputs": [
    {
     "name": "stdout",
     "output_type": "stream",
     "text": [
      "Strings concatenadas: Este é um programa em Python para calcular a inversa da Matriz A\n",
      "Segmento final da string:  Python\n"
     ]
    }
   ],
   "source": [
    "string1 = 'Este é um programa em Python'         # Define uma variável tipo string\n",
    "string2 = 'para calcular a inversa da Matriz A'  # Observe que as letras ficam entre as aspas simples\n",
    "print('Strings concatenadas:', string1 + ' ' + string2)                   # Mostra as strings concatenadas com o espaço ' '\n",
    "print('Segmento final da string: ', string1[22:28])"
   ]
  },
  {
   "cell_type": "markdown",
   "metadata": {
    "slideshow": {
     "slide_type": "slide"
    }
   },
   "source": [
    "As strings são variáveis \"imutáveis\", ou seja, uma vez definida não admitem que sejam alteradas, veja o exemplo abaixo que tenta modificar a primeira letra da *string1* e que, quando executado, gera um erro:\n"
   ]
  },
  {
   "cell_type": "code",
   "execution_count": 4,
   "metadata": {
    "slideshow": {
     "slide_type": "slide"
    }
   },
   "outputs": [
    {
     "ename": "TypeError",
     "evalue": "'str' object does not support item assignment",
     "output_type": "error",
     "traceback": [
      "\u001b[1;31m---------------------------------------------------------------------------\u001b[0m",
      "\u001b[1;31mTypeError\u001b[0m                                 Traceback (most recent call last)",
      "\u001b[1;32m<ipython-input-4-ab5f24367b27>\u001b[0m in \u001b[0;36m<module>\u001b[1;34m\u001b[0m\n\u001b[1;32m----> 1\u001b[1;33m \u001b[0mstring1\u001b[0m\u001b[1;33m[\u001b[0m\u001b[1;36m0\u001b[0m\u001b[1;33m]\u001b[0m \u001b[1;33m=\u001b[0m \u001b[1;34m'e'\u001b[0m\u001b[1;33m\u001b[0m\u001b[1;33m\u001b[0m\u001b[0m\n\u001b[0m",
      "\u001b[1;31mTypeError\u001b[0m: 'str' object does not support item assignment"
     ]
    }
   ],
   "source": [
    "string1[0] = 'e'\n"
   ]
  },
  {
   "cell_type": "markdown",
   "metadata": {
    "slideshow": {
     "slide_type": "slide"
    }
   },
   "source": [
    "### *Tuples*\n",
    "\n",
    "*Tuples* ou tuplas é uma sequência de objetos arbitrários separados por vírgulas e entre parênteses. Se a tupla contém apenas um elemento deve-se colocar um vírgula logo depois e são semelhantes às strings, pois podem ser manipulados e são imutáveis. Veja um exemplo de um tupla que contém a tupla (2, 4, 6):\n"
   ]
  },
  {
   "cell_type": "code",
   "execution_count": 5,
   "metadata": {
    "slideshow": {
     "slide_type": "slide"
    }
   },
   "outputs": [
    {
     "name": "stdout",
     "output_type": "stream",
     "text": [
      "Nome:  José\n",
      "Ano:  2006\n",
      "Nome Completo:  José Alves\n"
     ]
    }
   ],
   "source": [
    "tp = ('José','Alves', (12, 4, 2006)) # Define a tupla para guardar nome, sobrenome e data\n",
    "nome, sobrenome, data = tp           # Atribui cada objeto da tupla a uma variável\n",
    "print('Nome: ', nome)                # Mostra a variável nome\n",
    "ano = data[2]                        # Atribui o terceiro elemento (ano) da data à variável ano.\n",
    "print('Ano: ', ano)\n",
    "nome_completo = tp[0] +' '+ tp[1]\n",
    "print('Nome Completo: ', nome_completo)"
   ]
  },
  {
   "cell_type": "markdown",
   "metadata": {
    "slideshow": {
     "slide_type": "slide"
    }
   },
   "source": [
    "### *Listas*\n",
    "\n",
    "As listas são semelhantes às tuplas com a diferença de que seus valores e tamanho podem ser alterados. Vejam os exemplos a seguir"
   ]
  },
  {
   "cell_type": "code",
   "execution_count": 6,
   "metadata": {
    "slideshow": {
     "slide_type": "slide"
    }
   },
   "outputs": [
    {
     "name": "stdout",
     "output_type": "stream",
     "text": [
      "[1.0, 2.0, 3.0, 4.0]\n",
      "[1.1, 1.0, 2.0, 3.0, 4.0]\n",
      "5\n",
      "[1.1, 1.0, 0.0, 0.0, 0.0]\n"
     ]
    }
   ],
   "source": [
    "a = [1.0, 2.0, 3.0]    # Cria uma lista\n",
    "a.append(4.0)          # Acrescenta um elemento na lista\n",
    "print(a)\n",
    "a.insert(0,1.1)        # Insere um elemento na posição 0\n",
    "print(a)\n",
    "print(len(a))          # Mostra o número de elementos (tamanho) da lista  \n",
    "a[2:5] = [0.0, 0.0, 0.0]    # Modifica os elementos 2, 3 e 4\n",
    "print(a)"
   ]
  },
  {
   "cell_type": "markdown",
   "metadata": {
    "slideshow": {
     "slide_type": "slide"
    }
   },
   "source": [
    "É importante destacar que se fazemos $b = a$ não estamos criando um nova lista $b$, mas uma nova forma de se referir aos valores de $a$, ou seja, qualquer alteração em $a$ também será observada em $b$. Assim, para criarmos um cópia de $a$ é necessário fazer $b = a[:]$.\n",
    "\n",
    "Podemos ainda representar matrizes como listas de listas, posteriormente, veremos uma forma matematicamente mais adequada para trabalhar com matrizes. Por equanto, vejamos matrizes como listas de duas dimensões, sendo a primeira linhas e a segunda colunas"
   ]
  },
  {
   "cell_type": "code",
   "execution_count": 7,
   "metadata": {
    "slideshow": {
     "slide_type": "slide"
    }
   },
   "outputs": [
    {
     "name": "stdout",
     "output_type": "stream",
     "text": [
      "[[1, 2, 3], [4, 5, 6], [7, 8, 9]]\n",
      "[4, 5, 6]\n",
      "5\n"
     ]
    }
   ],
   "source": [
    "A = [[1, 2, 3], \\\n",
    "[4, 5, 6], \\\n",
    "[7, 8, 9]]            # A barra invertida é um símbolo de continuação de linha\n",
    "print(A)\n",
    "print(A[1][:]) # Mostrando a segunda linha. Observe que a numeração de elementos iniciam sempre em zero\n",
    "print(A[1][1]) # Mostrando elemento da segunda linha e segunda coluna"
   ]
  },
  {
   "cell_type": "markdown",
   "metadata": {
    "slideshow": {
     "slide_type": "slide"
    }
   },
   "source": [
    "### *Operadores aritméticos*\n",
    "\n",
    "Como em uma calculadora, para executar operações matemáticas neccessitamos de operadores aritméticos. No Python, eles são:\n",
    "\n",
    "* $a+b$ -> Adição\n",
    "* $a-b$ -> Subtração\n",
    "* $a/b$   -> Divisão\n",
    "* $a*b$ -> Multiplicação\n",
    "* $a$**$b$ -> Exponenciação\n",
    "* $a$%$b$ -> Divisão modular: Mostra o resto da divisão\n"
   ]
  },
  {
   "cell_type": "markdown",
   "metadata": {
    "slideshow": {
     "slide_type": "slide"
    }
   },
   "source": [
    "### *Operadores relacionais*\n",
    "\n",
    "Para efetuar comparações entre valores, precisamos do operadores relacionais. No Python, eles são:\n",
    "\n",
    "* $<$ -> Menor que\n",
    "* $>$ -> Maior que\n",
    "* $<=$   -> Menor ou igual a\n",
    "* $>=$ -> Maior ou igual a \n",
    "* $==$ -> Igual a\n",
    "* $!=$ -> Diferente de\n"
   ]
  },
  {
   "cell_type": "markdown",
   "metadata": {
    "slideshow": {
     "slide_type": "slide"
    }
   },
   "source": [
    "## *Condicionais*\n",
    "\n",
    "### if\n",
    "\n",
    "Para construimos um programa, frequentemente nos deparamos com situações em que precisamos tomar uma decisão de acordo com valores de varíaveis calculadas no decorrer da execução. A seguir veremos o condicional *if*, que testa uma condição e se ela for verdadeira ele executa o bloco de comandos indentados a seguir, por exemplo"
   ]
  },
  {
   "cell_type": "code",
   "execution_count": 8,
   "metadata": {
    "slideshow": {
     "slide_type": "slide"
    }
   },
   "outputs": [
    {
     "name": "stdout",
     "output_type": "stream",
     "text": [
      "Condição verdadeira\n"
     ]
    }
   ],
   "source": [
    "a = 1\n",
    "if a == 1:    # Verifica se a é igual a 1\n",
    "    print(\"Condição verdadeira\")  # Bloco a ser executado, observe que ele está recuado (indentado) em relação ao if "
   ]
  },
  {
   "cell_type": "markdown",
   "metadata": {
    "slideshow": {
     "slide_type": "slide"
    }
   },
   "source": [
    "### else\n",
    "Existe complementos ao comando *if*, por exemplo o comando *else* que vem logo abaixo do bloco \n",
    "a ser executado caso a condição seja verdadeira, estabelece o bloco de comando para o caso da condição não ser \n",
    "verdadeira, por exemplo"
   ]
  },
  {
   "cell_type": "code",
   "execution_count": 9,
   "metadata": {
    "slideshow": {
     "slide_type": "slide"
    }
   },
   "outputs": [
    {
     "name": "stdout",
     "output_type": "stream",
     "text": [
      "Condição falsa\n"
     ]
    }
   ],
   "source": [
    "b = 2\n",
    "if b == a:\n",
    "    print(\"Condição verdadeira\")\n",
    "else:\n",
    "    print(\"Condição falsa\")"
   ]
  },
  {
   "cell_type": "markdown",
   "metadata": {
    "slideshow": {
     "slide_type": "slide"
    }
   },
   "source": [
    "Existe ainda outro comando, o *elif* que é executado caso a condição do *if* seja falsa e a sua seja verdadeira, veja o exemplo\n"
   ]
  },
  {
   "cell_type": "code",
   "execution_count": 10,
   "metadata": {
    "slideshow": {
     "slide_type": "slide"
    }
   },
   "outputs": [
    {
     "name": "stdout",
     "output_type": "stream",
     "text": [
      "3 é maior que 1\n"
     ]
    }
   ],
   "source": [
    "b = 3\n",
    "if b == a:\n",
    "    print(\"são iguais\")\n",
    "elif b>a:\n",
    "    print(b,\"é maior que\", a)    \n",
    "else:\n",
    "    print(print(b,\"é menor que\", a))"
   ]
  },
  {
   "cell_type": "markdown",
   "metadata": {
    "slideshow": {
     "slide_type": "slide"
    }
   },
   "source": [
    "## *Loops*\n",
    "\n",
    "Os loops são utilizados para realizar cálculos repetitivos ou *iterativos* até que determinadas condições são satisfeitas. Os mais utilizados são o loop *while* e o *for*.\n",
    "\n",
    "\n",
    "### *while*\n",
    "\n",
    "O *while* executa um bloco de comandos indetados se a enquanto a condição estabelecida seja verdadeira, ou seja, após cada execução do bloco de comandos, antes de se iniciar novamente a execução, a condição é novamente avaliada, e se verdadeira, repete-se novamente o ciclo até que a condição se torne falsa, veja o exemplo:"
   ]
  },
  {
   "cell_type": "code",
   "execution_count": 11,
   "metadata": {
    "slideshow": {
     "slide_type": "slide"
    }
   },
   "outputs": [
    {
     "name": "stdout",
     "output_type": "stream",
     "text": [
      "[1.0, 0.5, 0.3333333333333333, 0.25]\n"
     ]
    }
   ],
   "source": [
    "a_min = 0.3\n",
    "a_lista = [] # Cria uma lista vazia\n",
    "n = 1\n",
    "while a > a_min:\n",
    "    a = 1.0/n\n",
    "    a_lista.append(a) # Adiciona um elemento à lista\n",
    "    n = n + 1\n",
    "print(a_lista)"
   ]
  },
  {
   "cell_type": "markdown",
   "metadata": {
    "slideshow": {
     "slide_type": "slide"
    }
   },
   "source": [
    "### *for*\n",
    "\n",
    "O *for* executa um bloco de comandos indetados por um número conhecido de vezes, veja o exemplo:\n",
    "    \n"
   ]
  },
  {
   "cell_type": "code",
   "execution_count": 12,
   "metadata": {
    "slideshow": {
     "slide_type": "slide"
    }
   },
   "outputs": [
    {
     "name": "stdout",
     "output_type": "stream",
     "text": [
      "[1.0, 0.5, 0.3333333333333333, 0.25]\n"
     ]
    }
   ],
   "source": [
    "nMax = 5\n",
    "a_lista = []\n",
    "for n in range(1,nMax): # executa o for para n vairando de 1 a nMax\n",
    "    a_lista.append(1.0/n)\n",
    "print(a_lista)"
   ]
  },
  {
   "cell_type": "markdown",
   "metadata": {
    "slideshow": {
     "slide_type": "slide"
    }
   },
   "source": [
    "Os comandos *while* e *for* admitem também o uso do comando *else*, para quando se deseja executar alguma instrução em caso de não atendimento da condição estabelecida; do comando *break* quando se deseja interromper a execução do loop."
   ]
  },
  {
   "cell_type": "code",
   "execution_count": 13,
   "metadata": {
    "slideshow": {
     "slide_type": "slide"
    }
   },
   "outputs": [
    {
     "name": "stdin",
     "output_type": "stream",
     "text": [
      "Digite um nome:  \n"
     ]
    },
    {
     "name": "stdout",
     "output_type": "stream",
     "text": [
      "\n",
      " não está na lista\n"
     ]
    }
   ],
   "source": [
    "list = ['Tiago','Ivan','Henrique', 'Paulo', 'João']\n",
    "nome = input('Digite um nome: ') # Caixa de texto (prompt) de entrada de dados\n",
    "print(nome)\n",
    "for i in range(len(list)): # Len(list) determina o número de elementos da lista\n",
    "    if list[i] == nome:\n",
    "        print(nome,'é o número',i + 1,'na lista')\n",
    "        break\n",
    "else:\n",
    "    print(nome,'não está na lista')"
   ]
  },
  {
   "cell_type": "markdown",
   "metadata": {
    "slideshow": {
     "slide_type": "slide"
    }
   },
   "source": [
    "## Conversão de Tipos de Variáveis\n",
    "\n",
    "* int(x) -> Converte x para inteiro\n",
    "* float(x) -> Converte x para float\n",
    "* complex(a) -> Converte x para um número complexo na forma x + 0j, onde j é o número imaginário $j = \\sqrt{-1}$ <br>\n",
    "* complex(x,y) -> Converte o par (x,y) para complexo na forma x + yj"
   ]
  },
  {
   "cell_type": "markdown",
   "metadata": {
    "slideshow": {
     "slide_type": "slide"
    }
   },
   "source": [
    "## Funções Matemáticas\n",
    "\n",
    "* abs(a) -> Valor absoluto ou módulo de a\n",
    "* max(sequence) -> Maior elemento da sequência\n",
    "* min(sequence) -> Menor elemento da sequência\n",
    "* round(a,n) -> Arredonda para n casas decimais\n",
    "* cmp(a,b) -> retorna \n",
    "$\\bigg\\{\\begin{smallmatrix}\n",
    "  −1 if a < b\\\\\n",
    "  0 if a = b\\\\\n",
    "  1 if a > b\n",
    "\\end{smallmatrix}$\n",
    "\n"
   ]
  },
  {
   "cell_type": "markdown",
   "metadata": {
    "slideshow": {
     "slide_type": "slide"
    }
   },
   "source": [
    "## *Input*\n",
    "\n",
    "Para solicitar que o usuário do programa forneça algum valor podemos utilizar a função *input* e a função *eval* quando desejamos converter o valor entrado no *input* de *string* para valor numérico."
   ]
  },
  {
   "cell_type": "code",
   "execution_count": 16,
   "metadata": {
    "slideshow": {
     "slide_type": "slide"
    }
   },
   "outputs": [
    {
     "name": "stdin",
     "output_type": "stream",
     "text": [
      "Digite a: 1\n"
     ]
    },
    {
     "name": "stdout",
     "output_type": "stream",
     "text": [
      "1 <class 'str'>\n",
      "1 <class 'int'>\n"
     ]
    }
   ],
   "source": [
    "a = input('Digite a:' )\n",
    "print(a, type(a)) # Mostra a e o tipo da variável\n",
    "b = eval(a)       # Converte a para um número\n",
    "print(b,type(b))"
   ]
  },
  {
   "cell_type": "markdown",
   "metadata": {
    "slideshow": {
     "slide_type": "slide"
    }
   },
   "source": [
    "## *Print*\n",
    "\n",
    "As varáveis podem ser mostradas no terminal com o uso da função *print(var1,var2,...)*, para a impressão essa função \n",
    "converte todas as variáveis para *string* e as mostra separadas por espaços. Há caracteres especiais que podem ser usados\n",
    "com a função *print*, por exemplo, '\\n' que muda de linha. "
   ]
  },
  {
   "cell_type": "code",
   "execution_count": 17,
   "metadata": {
    "slideshow": {
     "slide_type": "slide"
    }
   },
   "outputs": [
    {
     "name": "stdout",
     "output_type": "stream",
     "text": [
      "a = 1234.56789 \n",
      "b = [2, 4, 6, 8]\n"
     ]
    }
   ],
   "source": [
    "a = 1234.56789\n",
    "b = [2, 4, 6, 8]\n",
    "print('a =',a, '\\nb =',b)  # Mostra as variáveis mudando de linha"
   ]
  },
  {
   "cell_type": "markdown",
   "metadata": {
    "slideshow": {
     "slide_type": "slide"
    }
   },
   "source": [
    "Essa função permite também a utilização de regras de formatação numérica para representação de números inteiros ou reais. <br>\n",
    "\n",
    "```'{:fmt1}{:fmt2}...'.format(var1,var2,...)```\n",
    "\n",
    "As formatações podem ser especificadas utilizando a nomenclatura abaixo, onde $w$ é o número de casas do campo formatado e $d$ é o número de casas decimais, e $e$ é utilizado para representação em notação exponencial:\n",
    "\n",
    "* wd Integer\n",
    "* w.df Floating point notation\n",
    "* w.de Exponential notation\n",
    "\n",
    "No exemplo abaixo, são mostrados números formatados:"
   ]
  },
  {
   "cell_type": "code",
   "execution_count": 18,
   "metadata": {
    "slideshow": {
     "slide_type": "slide"
    }
   },
   "outputs": [
    {
     "name": "stdout",
     "output_type": "stream",
     "text": [
      "1234.57\n",
      "n =   5555 completando com espaços\n",
      "n = 005555 inteiro com seis casas, completando com zeros\n",
      "Em notação decimal:   1.2346e+03 e inteiro com seis casas decimais   5555\n"
     ]
    }
   ],
   "source": [
    "a = 1234.56789\n",
    "n = 5555\n",
    "print('{:7.2f}'.format(a))\n",
    "print('n = {:6d} completando com espaços'.format(n)) \n",
    "print('n = {:06d} inteiro com seis casas, completando com zeros'.format(n)) \n",
    "print('Em notação decimal: {:12.4e} e inteiro com seis casas decimais {:6d}'.format(a,n))"
   ]
  },
  {
   "cell_type": "markdown",
   "metadata": {
    "slideshow": {
     "slide_type": "slide"
    }
   },
   "source": [
    "## Abrindo e Fechando Arquivos\n",
    "\n",
    "Antes de acessar um arquivo armazenado, é necessáario criar um objeto de arquivo (file object):\n",
    "\n",
    "file_object = open(nome_arquivo, ação)\n",
    "\n",
    "Aqui você cria o objeto de arquivo com nome igual a nome_arquivo, por ex. 'dados.txt' e define qual ação você operará no arquivo. As ações podem ser:\n",
    "\n",
    "* ’r’ Ler um arquivo existente.\n",
    "\n",
    "* ’w’ Escrever em um arquivo. Se ele já não existir, ele é criado.\n",
    "\n",
    "* ’a’ Acrescentar no fim de um arquivo.\n",
    "\n",
    "* ’r+’ Ler e Escrever de um arquivo existente.\n",
    "\n",
    "* ’w+’ Mesmo que ’r+’, mas o arquivo é criado se ele não existir.\n",
    "\n",
    "* ’a+’ Mesmo que ’w+’, mas os dados são acrescentados no final do arquivo.\n",
    "\n",
    "Quando você terminar de manipular o arquivo, deve-se fechá-lo com\n",
    "\n",
    "file_object.close()"
   ]
  },
  {
   "cell_type": "markdown",
   "metadata": {
    "slideshow": {
     "slide_type": "slide"
    }
   },
   "source": [
    "### Lendo dados de um arquivo aberto\n",
    "\n",
    "variavel_string = file_object.read(n) -> Lê n caracteres de um arquivo e retorna na forma de string\n",
    "variavel_string = file_object.read()  -> Lê todos os caracteres de um arquivo.\n",
    "variavel_string = file_object.readline(n) -> Lê n caracteres da linha atual.\n",
    "variavel_string = file object.readlines() -> Lê todas as linhas de um arquivo\n",
    "\n",
    "Um outra forma de ler os dados de um arquivo pode ser vista no exemplo abaixo. O arquivo a ser lido é \"dados.txt' que contém dados de intensidade solar no formato (ano mês dia intensidade):\n",
    "\n",
    "1896 05 26 40.94 <br>\n",
    "1896 05 27 40.58 <br>\n",
    "1896 05 28 40.20 <br>\n",
    "\n",
    "O exemplo a seguir deve criar uma lista x que contenha somente os dados de intensidade solar."
   ]
  },
  {
   "cell_type": "code",
   "execution_count": 24,
   "metadata": {
    "slideshow": {
     "slide_type": "slide"
    }
   },
   "outputs": [
    {
     "name": "stdout",
     "output_type": "stream",
     "text": [
      "[40.94, 40.58, 40.2]\n"
     ]
    }
   ],
   "source": [
    "x = []\n",
    "data = open('files\\dados.txt','r')  # Abre o arquivo para leitura\n",
    "for line in data:                   # Define um loop para ler todas as linhas no objeto data\n",
    "    x.append(eval(line.split()[3])) # Lê a linha, extrai o elemento da 4ª coluna e transforma em real (eval)\n",
    "data.close()                        # Fecha o arquivo\n",
    "print(x)                            # Mostra o vetor x"
   ]
  },
  {
   "cell_type": "markdown",
   "metadata": {
    "slideshow": {
     "slide_type": "slide"
    }
   },
   "source": [
    "## Escrevendo dados em um arquivo\n",
    "\n",
    "No próximo exemplo, veremos como gravar dados em um arquivo:"
   ]
  },
  {
   "cell_type": "code",
   "execution_count": 33,
   "metadata": {
    "slideshow": {
     "slide_type": "slide"
    }
   },
   "outputs": [],
   "source": [
    "f = open('files/testfile.txt','w')               # Cria e abre o arquivo testfile\n",
    "for k in range(101,111):                     # Define um loop com k variando de 101 a 111\n",
    "    f.write('{:4d} {:6d}'.format(k,k**2))    # Escreve no objeto f os valores k e k*k no arquivo\n",
    "    f.write('\\n')                            # Acrescenta uma nova linha\n",
    "f.close()"
   ]
  },
  {
   "cell_type": "markdown",
   "metadata": {
    "slideshow": {
     "slide_type": "slide"
    }
   },
   "source": [
    "Abrindo o arquivo testefile.txt no bloco de notas, obtemos:\n",
    "\n",
    "101 10201 <br>\n",
    "102 10404 <br>\n",
    "103 10609 <br>\n",
    "104 10816 <br>\n",
    "105 11025 <br>\n",
    "106 11236 <br>\n",
    "107 11449 <br>\n",
    "108 11664 <br>\n",
    "109 11881 <br>\n",
    "110 12100 <br>\n",
    "\n",
    "A função 'print' também pode ser utilizada para se escrever em um arquivo redirecionado sua saída para o objeto de arquivo:\n",
    "\n",
    "```print(variavel1, variavel2, . . . ,file = file_object)```\n",
    "  \n",
    "Assim, pode-se utilizar normalmente a função print.\n"
   ]
  },
  {
   "cell_type": "markdown",
   "metadata": {
    "slideshow": {
     "slide_type": "slide"
    }
   },
   "source": [
    "## Controle de Erros\n",
    "\n",
    "Quando um erro ocorre em um programa em execução, uma mensagem de exceção é gerada e o programa é interrompido. As exceções podem ser capturadas e tratadas de forma adequada com os comandos ```try``` e ```except```. Por exemplo, se tentamos dividir por zero, o programa gera uma exceção de ```ZeroDivisionError``` que pode ser capturada e tratada como no exemplo a seguir:\n"
   ]
  },
  {
   "cell_type": "code",
   "execution_count": 34,
   "metadata": {
    "slideshow": {
     "slide_type": "slide"
    }
   },
   "outputs": [
    {
     "ename": "ZeroDivisionError",
     "evalue": "float division by zero",
     "output_type": "error",
     "traceback": [
      "\u001b[1;31m---------------------------------------------------------------------------\u001b[0m",
      "\u001b[1;31mZeroDivisionError\u001b[0m                         Traceback (most recent call last)",
      "\u001b[1;32m<ipython-input-34-3c30fdf190ff>\u001b[0m in \u001b[0;36m<module>\u001b[1;34m\u001b[0m\n\u001b[1;32m----> 1\u001b[1;33m \u001b[0mz\u001b[0m \u001b[1;33m=\u001b[0m \u001b[1;36m15.0\u001b[0m\u001b[1;33m/\u001b[0m\u001b[1;36m0.0\u001b[0m\u001b[1;33m\u001b[0m\u001b[1;33m\u001b[0m\u001b[0m\n\u001b[0m",
      "\u001b[1;31mZeroDivisionError\u001b[0m: float division by zero"
     ]
    }
   ],
   "source": [
    "z = 15.0/0.0"
   ]
  },
  {
   "cell_type": "code",
   "execution_count": 36,
   "metadata": {
    "slideshow": {
     "slide_type": "slide"
    }
   },
   "outputs": [
    {
     "name": "stdout",
     "output_type": "stream",
     "text": [
      "Não foi possível executar a operação: Divisão por zero\n"
     ]
    }
   ],
   "source": [
    "try:                           # Testa a operação que pode causar erro\n",
    "    c = 12.0/0.0\n",
    "except ZeroDivisionError:      # Captura a exceção devido à divisão por zero\n",
    "    print('Não foi possível executar a operação: Divisão por zero' ) # Dá um aviso ou uma solução para o erro"
   ]
  },
  {
   "cell_type": "markdown",
   "metadata": {
    "slideshow": {
     "slide_type": "slide"
    }
   },
   "source": [
    "## Funções e Módulos\n",
    "\n",
    "Uma função é uma parte do programa que pode ser executada várias vezes para retornar um valor. Por exemplo,\n",
    "a função seno retorna o valor do seno de um ângulo fornecido, também chamado de argumento da função.\n",
    "\n",
    "Para definir uma função, utilizamos o comando ```def```:\n",
    "    \n",
    "    def func_name(param1, param2,. . .):\n",
    "        Operações executadas\n",
    "        return valor_retornado \n",
    "        \n",
    "O exemplo a seguir define uma função que pode ser usada para defivar numericamente outra função em um ponto x:"
   ]
  },
  {
   "cell_type": "code",
   "execution_count": 54,
   "metadata": {
    "slideshow": {
     "slide_type": "slide"
    }
   },
   "outputs": [],
   "source": [
    "# Função que deriva uma função fornecida por diferenças finitas\n",
    "def derivadas(f,x,h=0.0001):          # Define a função derivadas e h tem um valor default ou padrão\n",
    "    df =(f(x+h) - f(x-h))/(2.0*h)          # Derivada primeira\n",
    "    ddf =(f(x+h) - 2.0*f(x) + f(x-h))/h**2 # Derivada segunda\n",
    "    return df,ddf                          # Retorna os valores das derivadas em x"
   ]
  },
  {
   "cell_type": "markdown",
   "metadata": {
    "slideshow": {
     "slide_type": "slide"
    }
   },
   "source": [
    "Podemos, por exemplo, usar a função derivadas para nos retornar as derivadas da função seno no ponto $x=\\pi/2$"
   ]
  },
  {
   "cell_type": "code",
   "execution_count": 60,
   "metadata": {
    "slideshow": {
     "slide_type": "slide"
    }
   },
   "outputs": [
    {
     "name": "stdout",
     "output_type": "stream",
     "text": [
      "First derivative = 4.632679462268641e-05\n",
      "Second derivative = -0.999999993922529\n"
     ]
    }
   ],
   "source": [
    "from math import sin             # Importa a função seno do módulo math\n",
    "df,ddf = derivadas(sin,3.1415/2) # Retorna as derivadas calculadas utilizando o valor defaul para h\n",
    "print('First derivative =',df)   # Mostra a primeira derivada\n",
    "print('Second derivative =',ddf) # Mostra a segunda derivada"
   ]
  },
  {
   "cell_type": "markdown",
   "metadata": {
    "slideshow": {
     "slide_type": "slide"
    }
   },
   "source": [
    "O número de argumentos de uma função pode ser deixado livre, por exemplo:\n",
    "\n",
    "    def func(x1,x2,*x3)\n",
    "Nesse caso, os dois primeiros argumentos são posicionais e o terceiro é uma tupla e pode conter quantos elementos forem passados como argumentos para a função, por exemplo:\n",
    "\n",
    "    func(a,b,c,d,e)\n",
    "    \n",
    "Resultando em a->x1, b->x2 e (c,d,e)->x3. Isso é bastante útil quando se tem argumentos com tamanhos variáveis, como no exemplo a seguir:\n"
   ]
  },
  {
   "cell_type": "code",
   "execution_count": 65,
   "metadata": {
    "slideshow": {
     "slide_type": "slide"
    }
   },
   "outputs": [
    {
     "name": "stdout",
     "output_type": "stream",
     "text": [
      "[1, 4, 9, 16]\n",
      "[1, 4, 9, 16, 25]\n"
     ]
    }
   ],
   "source": [
    "def squares(a):\n",
    "    for i in range(len(a)): # Define o loop onde i varia até o tamanho da lista\n",
    "        a[i] = a[i]**2\n",
    "        \n",
    "a = [1, 2, 3, 4] # Lista com 4 elementos\n",
    "squares(a)\n",
    "print(a) # ’a’ agora contém ’a**2’\n",
    "\n",
    "b = [1, 2, 3, 4, 5] # Lista com 5 elementos\n",
    "squares(b)\n",
    "print(b) # ’b’ agora contém ’b**2’"
   ]
  },
  {
   "cell_type": "markdown",
   "metadata": {
    "slideshow": {
     "slide_type": "slide"
    }
   },
   "source": [
    "### Comando Lambda \n",
    " Se uma função tem a forma de uma expressão matemática, ela pode ser definida de forma simplificada com o comando $lambda$ ```func name = lambda param1, param2,...: expression```, por exemplo:\n"
   ]
  },
  {
   "cell_type": "code",
   "execution_count": 66,
   "metadata": {
    "slideshow": {
     "slide_type": "slide"
    }
   },
   "outputs": [
    {
     "name": "stdout",
     "output_type": "stream",
     "text": [
      "25\n"
     ]
    }
   ],
   "source": [
    "hipotenusa = lambda x,y : x**2 + y**2\n",
    "print(hipotenusa(3,4))"
   ]
  },
  {
   "cell_type": "markdown",
   "metadata": {
    "slideshow": {
     "slide_type": "slide"
    }
   },
   "source": [
    "## Módulos\n",
    "\n",
    "A ideia de se criar funções vem da necessidade de se reutilizar o código várias vezes, como a funnção cosseno por exemplo. Nesse mesmo sentido, poderíamos pensar em agrupar determinadas funções que tem algum em comum e sempre que necessário utilizá-las em nossos programas computacionais. Esse agrupamento denominamos Módulos (_module_) em Pynthon, e quando queremos usar as funções agrupadas podemos importar o módulo de interesse:\n",
    "\n",
    "``` from module_name import * ```\n",
    "\n",
    "O Python possui incontáveis módulos que contém funções ou métodos para as mais diversas tarefas. Podemos ainda, conforme a necessidade e conveniência, modificiar módulos existentes ou criar nossos próprios módulos. A seguir veremos alguns módulos úteis para a disciplina de Métodos Numéricos.\n"
   ]
  },
  {
   "cell_type": "markdown",
   "metadata": {
    "slideshow": {
     "slide_type": "slide"
    }
   },
   "source": [
    "## Módulo Matemáticos"
   ]
  },
  {
   "cell_type": "markdown",
   "metadata": {
    "slideshow": {
     "slide_type": "slide"
    }
   },
   "source": [
    "### Módulo ```math```\n",
    "\n",
    "Muitas funções matemáticas são incluídas nesse módulo. O seguinte comando importa todas as funções do módulo _math_.\n",
    "\n",
    "    from math import *\n",
    "    \n",
    " Se quisermos importar apenas uma ou mais funções específicas basta relacioná-las após o comando _import_."
   ]
  },
  {
   "cell_type": "code",
   "execution_count": 15,
   "metadata": {
    "slideshow": {
     "slide_type": "slide"
    }
   },
   "outputs": [
    {
     "name": "stdout",
     "output_type": "stream",
     "text": [
      "tg(0.5) =  0.5463024898437905\n",
      "tg(0.5) =  0.5463024898437905\n"
     ]
    }
   ],
   "source": [
    "from math import sin, cos, tan\n",
    "print('tg(0.5) = ',sin(0.5)/cos(0.5)) \n",
    "print('tg(0.5) = ', tan(0.5))\n"
   ]
  },
  {
   "cell_type": "markdown",
   "metadata": {
    "slideshow": {
     "slide_type": "slide"
    }
   },
   "source": [
    "Você pode ainda importar o módulo atribuindo um \"apelido\", como mostrado a seguir:"
   ]
  },
  {
   "cell_type": "code",
   "execution_count": 17,
   "metadata": {
    "slideshow": {
     "slide_type": "fragment"
    }
   },
   "outputs": [
    {
     "name": "stdout",
     "output_type": "stream",
     "text": [
      "tg(0.5) =  0.5463024898437905\n",
      "tg(0.5) =  0.5463024898437905\n"
     ]
    }
   ],
   "source": [
    "import math as m\n",
    "print('tg(0.5) = ',m.sin(0.5)/m.cos(0.5)) \n",
    "print('tg(0.5) = ', m.tan(0.5))"
   ]
  },
  {
   "cell_type": "markdown",
   "metadata": {
    "slideshow": {
     "slide_type": "fragment"
    }
   },
   "source": [
    "Para saber quais funções estão agrupadas em um módulo, você pode usar o comando _dir(modulo)_, por exemplo, _dir(math)_ listará todas as funções agrupadas nesse módulo. Para aprender mais sobre os módulos e suas funções você pode procurar ajuda no Google.\n"
   ]
  },
  {
   "cell_type": "markdown",
   "metadata": {
    "slideshow": {
     "slide_type": "slide"
    }
   },
   "source": [
    "## Outros Módulos úteis\n",
    "\n",
    "### cmath\n",
    "Muitas das funções presentes em _math_ para serem utilizadas com números complexos.\n",
    "\n",
    "### numpy\n",
    "\n",
    "O módulo Numpy precisa ser instalado separadamente, uma vez que não faz parte do conjunto padrão do Python. No início deste texto, aprendemos instalar novos pacotes ou módulos. \n",
    "Esse módulo é um dos mais importantes para a disciplina de métodos numéricos e possui funções que facilitam cálculos utilizando vetores e matrizes. Para isso, ele define objetos _array_ que são similares a listas mas que podem ser mais facilmente manipuladas como entidades vetoriais pelas funções disponíveis no módulo. O tamanho de um _array_ é imutável e não contém elementos vazios.\n",
    "\n",
    "A lista completa de funções agrupadas em _numpy_ é muito extensa e pode ser consultada em www.numpy.org . À medida que progredirmos no curso, aprenderemos as funções necessárias. "
   ]
  },
  {
   "cell_type": "markdown",
   "metadata": {
    "slideshow": {
     "slide_type": "slide"
    }
   },
   "source": [
    "### Criando _Arrays_\n",
    "\n",
    "Para criar um _array_ usamos:\n",
    "\n",
    "    nome = array(list,tipo)\n",
    "    \n",
    "Podemos ainda criar tipos específicos de _arrays_:\n",
    "\n",
    "    array_de_zeros = zeros((dim1,dim2),tipo)\n",
    "    array_de_uns = ones((dim1,dim2),tipo)\n",
    "    array_em_intervalo = arange(inicio,fim,incremento)\n",
    "    \n",
    "Veja os exemplos:"
   ]
  },
  {
   "cell_type": "code",
   "execution_count": 26,
   "metadata": {
    "slideshow": {
     "slide_type": "slide"
    }
   },
   "outputs": [
    {
     "name": "stdout",
     "output_type": "stream",
     "text": [
      "a =  [[ 2. -1.]\n",
      " [-1.  3.]]\n",
      "Matriz 2x2 de uns\n",
      " [[1. 1.]\n",
      " [1. 1.]]\n",
      "Vetor de zeros inteiros\n",
      "  [0. 0. 0.] <class 'int'>\n",
      "vetor intervalo \n",
      " [2 4 6 8]\n"
     ]
    }
   ],
   "source": [
    "from numpy import *\n",
    "a = array([[2.0, -1.0],[-1.0, 3.0]])        # Cria um array 2x2, o equivalente a uma matriz\n",
    "print('a = ',a)                             # Veja a função print mostra o array como em forma de matriz\n",
    "\n",
    "print('Matriz 2x2 de uns\\n',ones((2,2)))    #Cria e mostra uma matriz 2x2 com elementos iguais a 1.\n",
    "print('Vetor de zeros inteiros\\n ',zeros(3), int)       #Cria e mostra um array com três elementos iguais a zeros inteiros ou um vetor de zeros.\n",
    "print('vetor intervalo \\n',arange(2,10,2))  #Cria e mostra um array que começa em 2, termina em 10, variando de 2 em 2.\n",
    "\n"
   ]
  },
  {
   "cell_type": "markdown",
   "metadata": {
    "slideshow": {
     "slide_type": "slide"
    }
   },
   "source": [
    "### Acesso a elementos do _array_\n",
    "\n",
    "Para um _array_ bidimensional, matriz 2x2, podemos acessar o valor de um dos elementos a[i,j], onde i é linha e j é a coluna onde se encontra o elemento.\n",
    "\n",
    "$\\begin{pmatrix} a_{11} & a_{12} \\\\  a_{21} & a_{22}\\end{pmatrix}$\n",
    "\n",
    "E para acessar um elemento escolhido basta então especificar os índices i e j, como no exemplo a seguir:"
   ]
  },
  {
   "cell_type": "code",
   "execution_count": 30,
   "metadata": {
    "slideshow": {
     "slide_type": "slide"
    }
   },
   "outputs": [
    {
     "name": "stdout",
     "output_type": "stream",
     "text": [
      "[[1 1 1]\n",
      " [1 1 1]\n",
      " [1 1 1]]\n",
      "[[0 0 0]\n",
      " [1 2 1]\n",
      " [3 3 1]]\n"
     ]
    }
   ],
   "source": [
    "from numpy import *\n",
    "A = ones((3,3),int)\n",
    "print(A)\n",
    "A[0] = [0,0,0] # Muda os valores da primeira linha\n",
    "A[1,1] = 2 # Muda o elemento que está na segunda coluna e segunda linha\n",
    "A[2,0:2] = [3,3] # Muda as duas primeiras colunas da terceira linha\n",
    "print(A)\n"
   ]
  },
  {
   "cell_type": "markdown",
   "metadata": {
    "slideshow": {
     "slide_type": "slide"
    }
   },
   "source": [
    "### Operações com _array_\n",
    "\n",
    "Assim como vetores e matrizes podemos realizar algumas operações matemáticas:"
   ]
  },
  {
   "cell_type": "code",
   "execution_count": 32,
   "metadata": {
    "slideshow": {
     "slide_type": "slide"
    }
   },
   "outputs": [
    {
     "name": "stdout",
     "output_type": "stream",
     "text": [
      "Divisão de vetor por um escalar\n",
      " [0.     0.25   0.5625 1.    ]\n",
      "Subtração de um escalar\n",
      " [-4.  0.  5. 12.]\n",
      "Aplicação de uma função em cada elemento do vetor\n",
      " [0. 2. 3. 4.]\n"
     ]
    }
   ],
   "source": [
    "from numpy import * # Funções importadas do módulo numpy podem ser aplicadas diremente sobre um array\n",
    "v = array([0.0, 4.0, 9.0, 16.0])\n",
    "print('Divisão de vetor por um escalar\\n', v/16.0)   \n",
    "print('Subtração de um escalar\\n', v - 4.0)\n",
    "print('Aplicação da função raiz quadradda em cada elemento do vetor\\n', sqrt(v))"
   ]
  },
  {
   "cell_type": "markdown",
   "metadata": {
    "slideshow": {
     "slide_type": "slide"
    }
   },
   "source": [
    "### Funções _array_\n",
    "\n",
    "Há ainda algumas funções que realizam operações sobre os _arrays_ sendo bastante úteis para operações normalmente utilizadas em álgebra linear.\n"
   ]
  },
  {
   "cell_type": "code",
   "execution_count": 41,
   "metadata": {
    "slideshow": {
     "slide_type": "slide"
    }
   },
   "outputs": [
    {
     "name": "stdout",
     "output_type": "stream",
     "text": [
      "A= [[ 4. -2.  1.]\n",
      " [-2.  4. -2.]\n",
      " [ 1. -2.  3.]]\n",
      "b = [1. 4. 3.]\n",
      "diagonal principal da matriz A [4. 4. 3.]\n",
      "Primeira subdiagonal [-2. -2.]\n",
      "Mostra o traço 11.0\n",
      "Índice do maior elemento 1\n",
      "Índices dos menores elementos de coluna [1 0 1]\n",
      "Matriz identidade\n",
      " [[1. 0. 0.]\n",
      " [0. 1. 0.]\n",
      " [0. 0. 1.]]\n"
     ]
    }
   ],
   "source": [
    "from numpy import *\n",
    "A = array([[4,-2,1],[-2,4,-2],[1,-2,3]],float) # Define uma matriz 3x3\n",
    "print('A=',A)\n",
    "b = array([1,4,3],float)                       # Define um vetor 1x3      \n",
    "print('b =',b)\n",
    "print('Diagonal principal da matriz A', diagonal(A)) # Mostra diagonal principal da matriz A\n",
    "print('Primeira subdiagonal', diagonal(A,1)) # Mostra primeira subdiagonal\n",
    "print('Mostra o traço',trace(A)) # Mostra o traço: Soma dos elementos da diagonal principal\n",
    "print('Índice do maior elemento',argmax(b)) # Índice do maior elemento do vetor\n",
    "print('Índices dos menores elementos de coluna',argmin(A,axis=0)) # Índices dos menores elementos de coluna\n",
    "print('Matriz identidade\\n',identity(3)) # Matriz identidade"
   ]
  },
  {
   "cell_type": "markdown",
   "metadata": {
    "slideshow": {
     "slide_type": "slide"
    }
   },
   "source": [
    "## Produtos de _arrays_\n",
    "\n",
    "Há ainda as funções cálculo de produtos entre _arrays_, tal como em álgebra vetorial, temos o produto interno, produto externo e produto escalar.\n"
   ]
  },
  {
   "cell_type": "code",
   "execution_count": 42,
   "metadata": {
    "slideshow": {
     "slide_type": "slide"
    }
   },
   "outputs": [
    {
     "name": "stdout",
     "output_type": "stream",
     "text": [
      "dot(x,y) =\n",
      " 17\n",
      "dot(A,x) =\n",
      " [13 27]\n",
      "dot(A,B) =\n",
      " [[5 5]\n",
      " [7 7]]\n",
      "inner(x,y) =\n",
      " 17\n",
      "inner(A,x) =\n",
      " [13 27]\n",
      "inner(A,B) =\n",
      " [[ 3  6]\n",
      " [ 5 10]]\n",
      "outer(x,y) =\n",
      " [[14  7]\n",
      " [ 6  3]]\n",
      "outer(A,x) =\n",
      " [[ 7  3]\n",
      " [14  6]\n",
      " [21  9]\n",
      " [14  6]]\n",
      "outer(A,B) =\n",
      " [[1 1 2 2]\n",
      " [2 2 4 4]\n",
      " [3 3 6 6]\n",
      " [2 2 4 4]]\n"
     ]
    }
   ],
   "source": [
    "from numpy import *\n",
    "x = array([7,3])\n",
    "y = array([2,1])\n",
    "A = array([[1,2],[3,2]])\n",
    "B = array([[1,1],[2,2]])\n",
    "# Produto escalar\n",
    "print(\"dot(x,y) =\\n\",dot(x,y)) # {x}.{y}\n",
    "print(\"dot(A,x) =\\n\",dot(A,x)) # [A]{x}\n",
    "print(\"dot(A,B) =\\n\",dot(A,B)) # [A][B]\n",
    "# Produto interno\n",
    "print(\"inner(x,y) =\\n\",inner(x,y)) # {x}.{y}\n",
    "print(\"inner(A,x) =\\n\",inner(A,x)) # [A]{x}\n",
    "print(\"inner(A,B) =\\n\",inner(A,B)) # [A][B_transposta]\n",
    "# Produto externo\n",
    "print(\"outer(x,y) =\\n\",outer(x,y))\n",
    "print(\"outer(A,x) =\\n\",outer(A,x))\n",
    "print(\"outer(A,B) =\\n\",outer(A,B))"
   ]
  },
  {
   "cell_type": "markdown",
   "metadata": {
    "slideshow": {
     "slide_type": "slide"
    }
   },
   "source": [
    "### Módulo de álgebra linear\n",
    "\n",
    "O módulo _numpy_ tem ainda um módulo de álgebra linear _linalg_ que contém rotinas prontas para inversão de matrizes e solução de sistemas lineares\n",
    "Por exemplo:"
   ]
  },
  {
   "cell_type": "code",
   "execution_count": 45,
   "metadata": {
    "slideshow": {
     "slide_type": "slide"
    }
   },
   "outputs": [
    {
     "name": "stdout",
     "output_type": "stream",
     "text": [
      "[[0.33333333 0.16666667 0.        ]\n",
      " [0.16666667 0.45833333 0.25      ]\n",
      " [0.         0.25       0.5       ]]\n",
      "[1.  2.5 2. ]\n"
     ]
    }
   ],
   "source": [
    "from numpy import array\n",
    "from numpy.linalg import inv,solve\n",
    "A = array([[ 4.0, -2.0, 1.0], \\\n",
    "[-2.0, 4.0, -2.0], \\\n",
    "[ 1.0, -2.0, 3.0]])\n",
    "b = array([1.0, 4.0, 2.0])\n",
    "print(inv(A)) # Inversa da matriz A\n",
    "print(solve(A,b)) # Resolve o sistema [A]{x} = {b}\n"
   ]
  },
  {
   "cell_type": "markdown",
   "metadata": {
    "slideshow": {
     "slide_type": "slide"
    }
   },
   "source": [
    "Para criar uma cópia de uma matriz basta escrever B = A.copy()\n",
    "\n",
    "### Vetorizando algoritmos\n",
    "\n",
    "Algumas vezes as propriedades inerentes às funções do módulo _mumpy_ podem ser utilizadas para substituir o uso de loops _for_ ou _while_, conhecido como processo de vetorização. Por exemplo, a expressão:\n",
    "\n",
    "$ s=\\sum_{i=0}^{100} \\sqrt{\\frac{i\\pi}{100}}sin{\\frac{i\\pi}{100}}$\n",
    "\n",
    "Para calcaular esse somatório, poderíamos utilizar um loop _for_ como no exemplo a seguir, sem vetorização:\n"
   ]
  },
  {
   "cell_type": "code",
   "execution_count": 47,
   "metadata": {
    "slideshow": {
     "slide_type": "slide"
    }
   },
   "outputs": [
    {
     "name": "stdout",
     "output_type": "stream",
     "text": [
      "77.51389798916522\n"
     ]
    }
   ],
   "source": [
    "from math import sqrt,sin,pi\n",
    "x = 0.0; s = 0.0\n",
    "for i in range(101):\n",
    "    s = s + sqrt(x)*sin(x)\n",
    "    x = x + 0.01*pi\n",
    "print(s)"
   ]
  },
  {
   "cell_type": "markdown",
   "metadata": {
    "slideshow": {
     "slide_type": "slide"
    }
   },
   "source": [
    "Ou com vetorização:\n"
   ]
  },
  {
   "cell_type": "code",
   "execution_count": 5,
   "metadata": {
    "slideshow": {
     "slide_type": "fragment"
    }
   },
   "outputs": [
    {
     "name": "stdout",
     "output_type": "stream",
     "text": [
      "77.5138979891651\n"
     ]
    }
   ],
   "source": [
    "from numpy import sqrt,sin,arange\n",
    "from math import pi\n",
    "x = arange(0.0, 1.001*pi, 0.01*pi)\n",
    "print(sum(sqrt(x)*sin(x)))"
   ]
  },
  {
   "cell_type": "markdown",
   "metadata": {
    "slideshow": {
     "slide_type": "fragment"
    }
   },
   "source": [
    "Observe que o primeiro algoritmo importa as funções do módulo _math_ que não \"conhecem\" o objeto _array_. O segundo algoritmo importa as funções do módulo _numpy_. A difereça entre eles é que o segundo executa muito rápido mas utiliza mais memória."
   ]
  },
  {
   "cell_type": "markdown",
   "metadata": {
    "slideshow": {
     "slide_type": "slide"
    }
   },
   "source": [
    "## Plotando gráficos com _matplotlib.pyplot_\n",
    "\n",
    "O módulo matplotlib.pyplot é um grande agrupamento de funções para criação de gráficos 2D.\n",
    "Como outros módulos externos, deve ser instalado. Veja um exemplo:"
   ]
  },
  {
   "cell_type": "code",
   "execution_count": 1,
   "metadata": {
    "slideshow": {
     "slide_type": "slide"
    }
   },
   "outputs": [
    {
     "data": {
      "image/png": "[encoded data removed]",
      "text/plain": [
       "<Figure size 432x288 with 1 Axes>"
      ]
     },
     "metadata": {
      "needs_background": "light"
     },
     "output_type": "display_data"
    }
   ],
   "source": [
    "import matplotlib.pyplot as plt\n",
    "from numpy import arange,sin,cos\n",
    "x = arange(0.0,6.2,0.2)\n",
    "plt.plot(x,sin(x),'o-',x,cos(x),'.-') # Plota o gráfico com linhas e marcadores específicos\n",
    "plt.xlabel('x') # Adiciona um \"label\" ao eixo x\n",
    "plt.legend(('seno','cosseno'),loc = 0) # Adiciona legenda na localização 0\n",
    "plt.grid(True) # Acrescente a grade (grid)\n",
    "plt.savefig('testplot.png',format='png') # Salva o gráfico em formato png\n",
    "\n",
    "plt.show() # Mostra o gráfico na tela\n"
   ]
  },
  {
   "cell_type": "markdown",
   "metadata": {
    "slideshow": {
     "slide_type": "slide"
    }
   },
   "source": [
    "Na tabela a seguir, há alguns exemplos de linhas e marcadores:\n",
    "\n",
    "* ’-’ Linha sólida\n",
    "* ’--’ Linha tracejada\n",
    "* ’-.’ Linha traço ponto\n",
    "* ’:’ Linha pontilhada\n",
    "* ’o’ Marcador circular\n",
    "* ’ˆ’ Marcador triangular\n",
    "* ’s’ Marcador quadrado\n",
    "* ’h’ Marcador hexagonal\n",
    "* ’x’ Marcador em x\n",
    "\n",
    "E de localização das legendas:\n",
    "\n",
    "* 0 ”Melhor” localização\n",
    "* 1 Superior direita\n",
    "* 2 Superior esquerda\n",
    "* 3 Inferior esquerda\n",
    "* 4 Inferior direita"
   ]
  },
  {
   "cell_type": "markdown",
   "metadata": {
    "slideshow": {
     "slide_type": "slide"
    }
   },
   "source": [
    "Podemos ainda plotar mais de um gráfico na mesma figura:"
   ]
  },
  {
   "cell_type": "code",
   "execution_count": 4,
   "metadata": {
    "slideshow": {
     "slide_type": "fragment"
    }
   },
   "outputs": [
    {
     "data": {
      "image/png": "[encoded data removed]",
      "text/plain": [
       "<Figure size 432x288 with 2 Axes>"
      ]
     },
     "metadata": {
      "needs_background": "light"
     },
     "output_type": "display_data"
    }
   ],
   "source": [
    "import matplotlib.pyplot as plt\n",
    "from numpy import arange,sin,cos\n",
    "x = arange(0.0,6.2,0.2)\n",
    "plt.subplot(2,1,1)\n",
    "plt.plot(x,sin(x),'o-')\n",
    "plt.xlabel('x');plt.ylabel('sin(x)')\n",
    "plt.grid(True)\n",
    "plt.subplot(2,1,2)\n",
    "plt.plot(x,cos(x),'.-')\n",
    "plt.xlabel('x');plt.ylabel('cos(x)')\n",
    "plt.grid(True)\n",
    "plt.show()"
   ]
  },
  {
   "cell_type": "markdown",
   "metadata": {
    "slideshow": {
     "slide_type": "fragment"
    }
   },
   "source": [
    "## Referências"
   ]
  },
  {
   "cell_type": "markdown",
   "metadata": {
    "slideshow": {
     "slide_type": "slide"
    }
   },
   "source": [
    "Kiusalaas, J. (2013). **Numerical Methods in Engineering With Python 3**. Cambridge: Cambridge.<br>\n",
    "Brasil, R.M.L.R.F, Balthazar, J.M., Góis, W. (2015) **Métodos Numéricos e Computacionais na Prática de Engenharias e Ciências**, São Paulo: Edgar Blucher"
   ]
  }
 ],
 "metadata": {
  "kernelspec": {
   "display_name": "Python 3",
   "language": "python",
   "name": "python3"
  },
  "language_info": {
   "codemirror_mode": {
    "name": "ipython",
    "version": 3
   },
   "file_extension": ".py",
   "mimetype": "text/x-python",
   "name": "python",
   "nbconvert_exporter": "python",
   "pygments_lexer": "ipython3",
   "version": "3.7.6"
  }
 },
 "nbformat": 4,
 "nbformat_minor": 4
}
