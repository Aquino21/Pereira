{
 "cells": [
  {
   "cell_type": "markdown",
   "metadata": {
    "slideshow": {
     "slide_type": "slide"
    }
   },
   "source": [
    "# Aproximações e Erros de Arredondamento\n",
    "\n",
    " _Prof. Dr. Tito Dias Júnior_"
   ]
  },
  {
   "cell_type": "markdown",
   "metadata": {
    "slideshow": {
     "slide_type": "fragment"
    }
   },
   "source": [
    "## **Erros de Arredondamento**\n",
    "### Épsilon de Máquina\n"
   ]
  },
  {
   "cell_type": "code",
   "execution_count": 4,
   "metadata": {},
   "outputs": [
    {
     "name": "stdout",
     "output_type": "stream",
     "text": [
      "2.220446049250313e-16\n"
     ]
    }
   ],
   "source": [
    "#Calcula o épsilon de máquina\n",
    "epsilon = 1\n",
    "while (epsilon+1)>1:\n",
    "    epsilon = epsilon/2\n",
    "epsilon = 2 * epsilon\n",
    "print(epsilon)"
   ]
  },
  {
   "cell_type": "markdown",
   "metadata": {},
   "source": [
    "Aproximação de uma função por Série de Taylor\n"
   ]
  },
  {
   "cell_type": "code",
   "execution_count": 24,
   "metadata": {
    "tags": []
   },
   "outputs": [
    {
     "name": "stdout",
     "output_type": "stream",
     "text": [
      "Ordem  ~f(x)    Erro\n",
      "0      1.200000 -1.000000\n",
      "1      0.950000 -0.750000\n",
      "2      0.450000 -0.250000\n",
      "3      0.300000 -0.100000\n",
      "4      0.200000 0.000000\n"
     ]
    },
    {
     "data": {
      "image/png": "[encoded data removed]",
      "text/plain": [
       "<Figure size 432x288 with 1 Axes>"
      ]
     },
     "metadata": {
      "needs_background": "light"
     },
     "output_type": "display_data"
    }
   ],
   "source": [
    "import numpy as np\n",
    "import matplotlib.pyplot as plt\n",
    "\n",
    "def f(x):\n",
    "    return -0.1*x**4 -0.15*x**3 -0.5*x**2 -0.25*x +1.2\n",
    "\n",
    "def df(x):\n",
    "    return -0.4*x**3 -0.45*x**2 -1.0*x -0.25\n",
    "\n",
    "def ddf(x):\n",
    "    return -1.2*x**2 -0.9*x -1.0\n",
    "\n",
    "def dddf(x):\n",
    "    return -2.4*x -0.9\n",
    "\n",
    "def d4f(x):\n",
    "    return -2.4\n",
    "x1 = 0 \n",
    "x2 = 1 \n",
    "# Aproximação de ordem zero\n",
    "fO_0 = f(x1)           # Valor previsto\n",
    "erroO_0 = f(x2) - fO_0 # valor exato menos o valor previsto\n",
    "\n",
    "# Aproximação de primeira ordem\n",
    "fO_1 = f(x1) + df(x1)*(x2-x1)         # Valor previsto\n",
    "erroO_1 = f(x2) - fO_1 # valor exato menos o valor previsto\n",
    "\n",
    "# Aproximação de segunda ordem\n",
    "fO_2 = f(x1) + df(x1)*(x2-x1) + (ddf(x1)/2)*(x2-x1)**2       # Valor previsto\n",
    "erroO_2 = f(x2) - fO_2 # valor exato menos o valor previsto\n",
    "\n",
    "# Aproximação de terceira ordem\n",
    "fO_3 = f(x1) + df(x1)*(x2-x1) + (ddf(x1)/2)*(x2-x1)**2 + (dddf(x1)/6)*(x2-x1)**3    # Valor previsto 3!=3*2*1=6\n",
    "erroO_3 = f(x2) - fO_3 # valor exato menos o valor previsto\n",
    "\n",
    "# Aproximação de quarta ordem\n",
    "fO_4 = f(x1) + df(x1)*(x2-x1) + (ddf(x1)/2)*(x2-x1)**2 + (dddf(x1)/6)*(x2-x1)**3 + (d4f(x1)/24)*(x2-x1)**4 # Valor previsto 4!=4*3*2*1=24\n",
    "erroO_4 = f(x2) - fO_4 # valor exato menos o valor previsto\n",
    "\n",
    "print('Ordem  ~f(x)    Erro')\n",
    "print('0      {0:8f} {1:3f}'.format(fO_0, erroO_0))\n",
    "print('1      {0:8f} {1:8f}'.format(fO_1, erroO_1))\n",
    "print('2      {0:8f} {1:8f}'.format(fO_2, erroO_2))\n",
    "print('3      {0:8f} {1:8f}'.format(fO_3, erroO_3))\n",
    "print('4      {0:8f} {1:8f}'.format(fO_4, erroO_4))\n",
    "\n",
    "\n",
    "# Plotagem dos gráficos\n",
    "xx = np.linspace(-2,2.0,40)\n",
    "yy = f(xx)\n",
    "\n",
    "plt.plot(xx,yy,'b',x2,fO_0,'*',x2,fO_1,'*r', x2, fO_2, '*g', x2, fO_3,'*y', x2, fO_4, '*r')\n",
    "plt.savefig('exemplo1.png')\n",
    "plt.show()\n",
    "\n",
    "\n"
   ]
  },
  {
   "cell_type": "code",
   "execution_count": 32,
   "metadata": {
    "tags": []
   },
   "outputs": [
    {
     "name": "stdout",
     "output_type": "stream",
     "text": [
      "Ordem  ~f(x)    Erro\n",
      "0      1.000000 -0.292893\n",
      "1      1.000000 -0.292893\n",
      "2      0.691575 0.015532\n",
      "3      0.691575 0.015532\n",
      "4      0.707429 -0.000322\n"
     ]
    },
    {
     "data": {
      "image/png": "[encoded data removed]",
      "text/plain": [
       "<Figure size 432x288 with 1 Axes>"
      ]
     },
     "metadata": {
      "needs_background": "light"
     },
     "output_type": "display_data"
    }
   ],
   "source": [
    "# Exercício do dia 17/08/2020\n",
    "\n",
    "import numpy as np\n",
    "import matplotlib.pyplot as plt\n",
    "\n",
    "def f(x):\n",
    "    return np.sin(x)\n",
    "\n",
    "def df(x):\n",
    "    return np.cos(x)\n",
    "\n",
    "def ddf(x):\n",
    "    return -np.sin(x)\n",
    "\n",
    "def dddf(x):\n",
    "    return -np.cos(x)\n",
    "\n",
    "def d4f(x):\n",
    "    return np.sin(x)\n",
    "x1 = np.pi/2\n",
    "x2 = 3*np.pi/4 # igual a pi/2 +pi/4\n",
    "# Aproximação de ordem zero\n",
    "fO_0 = f(x1)           # Valor previsto\n",
    "erroO_0 = f(x2) - fO_0 # valor exato menos o valor previsto\n",
    "\n",
    "# Aproximação de primeira ordem\n",
    "fO_1 = f(x1) + df(x1)*(x2-x1)         # Valor previsto\n",
    "erroO_1 = f(x2) - fO_1 # valor exato menos o valor previsto\n",
    "\n",
    "# Aproximação de segunda ordem\n",
    "fO_2 = f(x1) + df(x1)*(x2-x1) + (ddf(x1)/2)*(x2-x1)**2       # Valor previsto\n",
    "erroO_2 = f(x2) - fO_2 # valor exato menos o valor previsto\n",
    "\n",
    "# Aproximação de terceira ordem\n",
    "fO_3 = f(x1) + df(x1)*(x2-x1) + (ddf(x1)/2)*(x2-x1)**2 + (dddf(x1)/6)*(x2-x1)**3    # Valor previsto 3!=3*2*1=6\n",
    "erroO_3 = f(x2) - fO_3 # valor exato menos o valor previsto\n",
    "\n",
    "# Aproximação de quarta ordem\n",
    "fO_4 = f(x1) + df(x1)*(x2-x1) + (ddf(x1)/2)*(x2-x1)**2 + (dddf(x1)/6)*(x2-x1)**3 + (d4f(x1)/24)*(x2-x1)**4 # Valor previsto 4!=4*3*2*1=24\n",
    "erroO_4 = f(x2) - fO_4 # valor exato menos o valor previsto\n",
    "\n",
    "print('Ordem  ~f(x)    Erro')\n",
    "print('0      {0:8f} {1:3f}'.format(fO_0, erroO_0))\n",
    "print('1      {0:8f} {1:8f}'.format(fO_1, erroO_1))\n",
    "print('2      {0:8f} {1:8f}'.format(fO_2, erroO_2))\n",
    "print('3      {0:8f} {1:8f}'.format(fO_3, erroO_3))\n",
    "print('4      {0:8f} {1:8f}'.format(fO_4, erroO_4))\n",
    "\n",
    "\n",
    "# Plotagem dos gráficos\n",
    "xx = np.linspace(0,2.*np.pi,40)\n",
    "yy = f(xx)\n",
    "\n",
    "plt.plot(xx,yy,'b',x2,fO_0,'*',x2,fO_1,'*b', x2, fO_2, '*g', x2, fO_3,'*y', x2, fO_4, '*r')\n",
    "plt.savefig('exemplo2.png')\n",
    "plt.show()\n",
    "\n",
    "\n"
   ]
  },
  {
   "cell_type": "markdown",
   "metadata": {
    "slideshow": {
     "slide_type": "fragment"
    }
   },
   "source": [
    "### Exercício - Aula 17/08/2020\n",
    "Utilizando o exemplo anterior faça expansões de Taylor para a função seno, de ordem zero até ordem 4, a partir de $x = \\pi/2$ com $h = \\pi/4$, ou seja, para estimar o valor da função em $x_{i+1} = 3 \\pi/4$. E responda os check de verificação no AVA:\n",
    "\n",
    "1. Check: Qual o erro da estimativa de ordem zero?\n",
    "2. Check: Qual o erro da estimativa de quarta ordem?\n"
   ]
  },
  {
   "cell_type": "markdown",
   "metadata": {
    "slideshow": {
     "slide_type": "fragment"
    }
   },
   "source": [
    "### Exercício - Aula 24/08/2020\n",
    "Utilizando os exemplo e exercícios anteriores faça os gráficos das expansões de Taylor para as funções estudadas, de ordem zero até ordem 4, salve o arquivo em formato png e faça o upload no AVA."
   ]
  },
  {
   "cell_type": "markdown",
   "metadata": {
    "slideshow": {
     "slide_type": "fragment"
    }
   },
   "source": [
    "## Referências"
   ]
  },
  {
   "cell_type": "markdown",
   "metadata": {
    "slideshow": {
     "slide_type": "fragment"
    }
   },
   "source": [
    "Kiusalaas, J. (2013). **Numerical Methods in Engineering With Python 3**. Cambridge: Cambridge.<br>\n",
    "Brasil, R.M.L.R.F, Balthazar, J.M., Góis, W. (2015) **Métodos Numéricos e Computacionais na Prática de Engenharias e Ciências**, São Paulo: Edgar Blucher"
   ]
  },
  {
   "cell_type": "code",
   "execution_count": null,
   "metadata": {},
   "outputs": [],
   "source": []
  },
  {
   "cell_type": "code",
   "execution_count": null,
   "metadata": {},
   "outputs": [],
   "source": []
  }
 ],
 "metadata": {
  "kernelspec": {
   "display_name": "Python 3",
   "language": "python",
   "name": "python3"
  },
  "language_info": {
   "codemirror_mode": {
    "name": "ipython",
    "version": 3
   },
   "file_extension": ".py",
   "mimetype": "text/x-python",
   "name": "python",
   "nbconvert_exporter": "python",
   "pygments_lexer": "ipython3",
   "version": "3.8.3"
  }
 },
 "nbformat": 4,
 "nbformat_minor": 4
}
